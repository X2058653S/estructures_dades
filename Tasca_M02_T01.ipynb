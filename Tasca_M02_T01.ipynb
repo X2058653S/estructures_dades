{
 "cells": [
  {
   "cell_type": "markdown",
   "id": "5c89e4b4",
   "metadata": {},
   "source": [
    "### Exercici 1\n",
    "Creamos la lista *trimestres* que agrupa los meses del año en trimestres:"
   ]
  },
  {
   "cell_type": "code",
   "execution_count": 208,
   "id": "1d81fcf2",
   "metadata": {},
   "outputs": [
    {
     "name": "stdout",
     "output_type": "stream",
     "text": [
      "trimestres: [['gener', 'febrer', 'març'], ['abril', 'maig', 'juny'], ['juliol', 'agost', 'setembre'], ['octubre', 'novembre', 'desembre']]\n"
     ]
    }
   ],
   "source": [
    "trimestres=[] \n",
    "\n",
    "trim1=['gener','febrer','març']\n",
    "trim2=['abril','maig','juny']\n",
    "trim3=['juliol','agost','setembre']\n",
    "trim4=['octubre','novembre','desembre']\n",
    "\n",
    "trimestres.append(trim1)\n",
    "trimestres.append(trim2)\n",
    "trimestres.append(trim3)\n",
    "trimestres.append(trim4)\n",
    "\n",
    "print('trimestres:',trimestres)"
   ]
  },
  {
   "cell_type": "markdown",
   "id": "dba56376",
   "metadata": {},
   "source": [
    "### Exercici 2\n",
    "Creamos un código que nos permita acceder al segundo mes del primer trimestre:"
   ]
  },
  {
   "cell_type": "code",
   "execution_count": 209,
   "id": "a3d2ea2d",
   "metadata": {},
   "outputs": [
    {
     "name": "stdout",
     "output_type": "stream",
     "text": [
      "febrer\n"
     ]
    }
   ],
   "source": [
    "print(trimestres[0][1])"
   ]
  },
  {
   "cell_type": "markdown",
   "id": "77e40436",
   "metadata": {},
   "source": [
    "Creamos un código que nos permita acceder a los meses del primer trimestre:"
   ]
  },
  {
   "cell_type": "code",
   "execution_count": 210,
   "id": "9e702b15",
   "metadata": {
    "scrolled": true
   },
   "outputs": [
    {
     "name": "stdout",
     "output_type": "stream",
     "text": [
      "['gener', 'febrer', 'març']\n"
     ]
    }
   ],
   "source": [
    "print(trimestres[0])"
   ]
  },
  {
   "cell_type": "markdown",
   "id": "28f7d55a",
   "metadata": {},
   "source": [
    "Creamos un código que nos permita acceder a septiembre y octubre:"
   ]
  },
  {
   "cell_type": "code",
   "execution_count": 211,
   "id": "8a4fc1e1",
   "metadata": {},
   "outputs": [
    {
     "name": "stdout",
     "output_type": "stream",
     "text": [
      "setembre octubre\n"
     ]
    }
   ],
   "source": [
    "print(trimestres[2][2],trimestres[3][0])"
   ]
  },
  {
   "cell_type": "markdown",
   "id": "0c740a6c",
   "metadata": {},
   "source": [
    "### Exercici 3\n",
    "Creamos una lista con números desordenados:"
   ]
  },
  {
   "cell_type": "code",
   "execution_count": 244,
   "id": "be9395fe",
   "metadata": {},
   "outputs": [
    {
     "name": "stdout",
     "output_type": "stream",
     "text": [
      "list= [10, 8, 9, 6, 3, 4, 19, 18, 7, 1] \n",
      "\n"
     ]
    }
   ],
   "source": [
    "import random\n",
    "\n",
    "list=(random.sample(range(20),10))\n",
    "\n",
    "print('list=',list,'\\n')"
   ]
  },
  {
   "cell_type": "markdown",
   "id": "3589953d",
   "metadata": {},
   "source": [
    "Extraemos la cantidad de números de la lista:"
   ]
  },
  {
   "cell_type": "code",
   "execution_count": 245,
   "id": "6df99859",
   "metadata": {},
   "outputs": [
    {
     "name": "stdout",
     "output_type": "stream",
     "text": [
      "hay 10 números\n"
     ]
    }
   ],
   "source": [
    "print('hay',len(list),'números')"
   ]
  },
  {
   "cell_type": "markdown",
   "id": "88aa3274",
   "metadata": {},
   "source": [
    "Extraemos la cantidad de veces que aparece el número 3:"
   ]
  },
  {
   "cell_type": "code",
   "execution_count": 246,
   "id": "0bbcccfc",
   "metadata": {},
   "outputs": [
    {
     "name": "stdout",
     "output_type": "stream",
     "text": [
      "el número 3 aparece 1 veces\n"
     ]
    }
   ],
   "source": [
    "print('el número 3 aparece',list.count(3),'veces')"
   ]
  },
  {
   "cell_type": "markdown",
   "id": "606d72cf",
   "metadata": {},
   "source": [
    "Extraemos la cantidad de veces que aparecen los números 3 y 4:"
   ]
  },
  {
   "cell_type": "code",
   "execution_count": 247,
   "id": "9339a54e",
   "metadata": {},
   "outputs": [
    {
     "name": "stdout",
     "output_type": "stream",
     "text": [
      "el número 3 aparece 1 veces i el número 4 aparece 1 veces\n"
     ]
    }
   ],
   "source": [
    "print('el número 3 aparece',list.count(3),'veces i el número 4 aparece',list.count(4),'veces')\n"
   ]
  },
  {
   "cell_type": "markdown",
   "id": "9061b88e",
   "metadata": {},
   "source": [
    "Extraemos el número más grande:"
   ]
  },
  {
   "cell_type": "code",
   "execution_count": 248,
   "id": "fa3b76df",
   "metadata": {},
   "outputs": [
    {
     "name": "stdout",
     "output_type": "stream",
     "text": [
      "el número más grande es 19\n"
     ]
    }
   ],
   "source": [
    "list.sort()\n",
    "print('el número más grande es', list[-1])"
   ]
  },
  {
   "cell_type": "markdown",
   "id": "0b946bcd",
   "metadata": {},
   "source": [
    "Extraemos los 3 números más pequeños:"
   ]
  },
  {
   "cell_type": "code",
   "execution_count": 249,
   "id": "ec74c59c",
   "metadata": {},
   "outputs": [
    {
     "name": "stdout",
     "output_type": "stream",
     "text": [
      "los 3 números más pequeños son [1, 3, 4]\n"
     ]
    }
   ],
   "source": [
    "print('los 3 números más pequeños son', list[:3])"
   ]
  },
  {
   "cell_type": "markdown",
   "id": "f781c36c",
   "metadata": {},
   "source": [
    "Extraemos el rango de la lista:"
   ]
  },
  {
   "cell_type": "code",
   "execution_count": 250,
   "id": "a41842a6",
   "metadata": {},
   "outputs": [
    {
     "name": "stdout",
     "output_type": "stream",
     "text": [
      "el rango de la lista es 18\n"
     ]
    }
   ],
   "source": [
    "print('el rango de la lista es', list[-1]-list[0])"
   ]
  },
  {
   "cell_type": "markdown",
   "id": "01c70314",
   "metadata": {},
   "source": [
    "## Exercici 4\n",
    "Creamos el diccionario:"
   ]
  },
  {
   "cell_type": "code",
   "execution_count": 229,
   "id": "d0aef69c",
   "metadata": {},
   "outputs": [
    {
     "name": "stdout",
     "output_type": "stream",
     "text": [
      "{'Pomes': {'Qty': 5, '€': 0.42}, 'Peres': {'Qty': 3, '€': 0.66}}\n"
     ]
    }
   ],
   "source": [
    "compra={'Pomes':{'Qty':5,'€':0.42},'Peres':{'Qty':3,'€':0.66}}\n",
    "print(compra)"
   ]
  },
  {
   "cell_type": "markdown",
   "id": "57acb3cb",
   "metadata": {},
   "source": [
    "Añadimos una fruta:"
   ]
  },
  {
   "cell_type": "code",
   "execution_count": 230,
   "id": "a0704528",
   "metadata": {},
   "outputs": [
    {
     "name": "stdout",
     "output_type": "stream",
     "text": [
      "{'Pomes': {'Qty': 5, '€': 0.42}, 'Peres': {'Qty': 3, '€': 0.66}, 'Taronjes': {'Qty': 7, '€': 2.37}}\n"
     ]
    }
   ],
   "source": [
    "Taronjes={'Qty':7,'€':2.37}\n",
    "compra['Taronjes']=Taronjes\n",
    "print(compra)"
   ]
  },
  {
   "cell_type": "markdown",
   "id": "49cf144f",
   "metadata": {},
   "source": [
    "Calculamos el precio total de las peras:"
   ]
  },
  {
   "cell_type": "code",
   "execution_count": 232,
   "id": "cf4f06e2",
   "metadata": {},
   "outputs": [
    {
     "name": "stdout",
     "output_type": "stream",
     "text": [
      "les peras en total han costado 1.98 €\n"
     ]
    }
   ],
   "source": [
    "Peres=compra['Peres']\n",
    "print('les peras en total han costado',Peres['Qty']*Peres['€'],'€')"
   ]
  },
  {
   "cell_type": "markdown",
   "id": "15a1e85a",
   "metadata": {},
   "source": [
    "Calculamos cuantas frutas hemos comprado en total:"
   ]
  },
  {
   "cell_type": "code",
   "execution_count": 251,
   "id": "5e21ed94",
   "metadata": {},
   "outputs": [
    {
     "name": "stdout",
     "output_type": "stream",
     "text": [
      "[5, 3, 7]\n",
      "la cantidad total de frutas es: 15\n"
     ]
    }
   ],
   "source": [
    "list=[]\n",
    "\n",
    "for valor in compra.values():\n",
    "    x=valor['Qty']\n",
    "    list.append(x)\n",
    "print(list)\n",
    "\n",
    "cantidad_frutas=sum(list)  \n",
    "print('la cantidad total de frutas es:',cantidad_frutas)\n",
    "        "
   ]
  },
  {
   "cell_type": "markdown",
   "id": "769f7e13",
   "metadata": {},
   "source": [
    "Buscamos cual es la fruta más cara:"
   ]
  },
  {
   "cell_type": "code",
   "execution_count": 252,
   "id": "a813bec0",
   "metadata": {},
   "outputs": [
    {
     "name": "stdout",
     "output_type": "stream",
     "text": [
      "[0.42, 0.66, 2.37]\n",
      "['Pomes', 'Peres', 'Taronjes']\n",
      "{'Pomes': 0.42, 'Peres': 0.66, 'Taronjes': 2.37}\n",
      "la fruita més cara es: Taronjes\n"
     ]
    }
   ],
   "source": [
    "list1=[]\n",
    "for valores in compra.values():\n",
    "    y=valores['€']\n",
    "    list1.append(y)\n",
    "print(list1)\n",
    "\n",
    "list2=[]\n",
    "for i in compra:\n",
    "    list2.append(i)\n",
    "print(list2)\n",
    "\n",
    "diccionario=dict(zip(list2,list1))\n",
    "print(diccionario)\n",
    "\n",
    "print('la fruita més cara es:',max(diccionario,key=diccionario.get))"
   ]
  }
 ],
 "metadata": {
  "kernelspec": {
   "display_name": "Python 3 (ipykernel)",
   "language": "python",
   "name": "python3"
  },
  "language_info": {
   "codemirror_mode": {
    "name": "ipython",
    "version": 3
   },
   "file_extension": ".py",
   "mimetype": "text/x-python",
   "name": "python",
   "nbconvert_exporter": "python",
   "pygments_lexer": "ipython3",
   "version": "3.9.13"
  }
 },
 "nbformat": 4,
 "nbformat_minor": 5
}
