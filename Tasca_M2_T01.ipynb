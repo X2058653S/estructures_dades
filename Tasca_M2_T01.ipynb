{
 "cells": [
  {
   "cell_type": "code",
   "execution_count": null,
   "id": "1d81fcf2",
   "metadata": {},
   "outputs": [],
   "source": [
    "#Exercici 1\n",
    "#Crea una llista que agrupi els mesos de l'any en trimestre\n",
    "\n",
    "trimestres=[] \n",
    "\n",
    "trim1=['gener','febrer','març']\n",
    "trim2=['abril','maig','juny']\n",
    "trim3=['juliol','agost','setembre']\n",
    "trim4=['octubre','novembre','desembre']\n",
    "\n",
    "trimestres.append(trim1)\n",
    "trimestres.append(trim2)\n",
    "trimestres.append(trim3)\n",
    "trimestres.append(trim4)\n",
    "\n",
    "print(trimestres)\n"
   ]
  },
  {
   "cell_type": "code",
   "execution_count": null,
   "id": "a3d2ea2d",
   "metadata": {},
   "outputs": [],
   "source": [
    "#Exercici 2\n",
    "#Crea una codi que permiti accedir :\n",
    "#El segon mes del primer trimestre\n",
    "\n",
    "print(trimestres[0][1])"
   ]
  },
  {
   "cell_type": "code",
   "execution_count": null,
   "id": "9e702b15",
   "metadata": {
    "scrolled": true
   },
   "outputs": [],
   "source": [
    "#Exercici 2\n",
    "#Crea una codi que permiti accedir :\n",
    "#Els mesos del primer trimestre\n",
    "\n",
    "print(trimestres[0])"
   ]
  },
  {
   "cell_type": "code",
   "execution_count": null,
   "id": "8a4fc1e1",
   "metadata": {},
   "outputs": [],
   "source": [
    "#Exercici 2\n",
    "#Crea una codi que permiti accedir :\n",
    "#Setembre i octubre\n",
    "\n",
    "print(trimestres[2][2],trimestres[3][0])"
   ]
  },
  {
   "cell_type": "code",
   "execution_count": null,
   "id": "739e3c15",
   "metadata": {},
   "outputs": [],
   "source": [
    "#Exercici 3\n",
    "#Crea una llista amb nombres desordenats:\n",
    "\n",
    "import random\n",
    "\n",
    "list=(random.sample(range(20),10))\n",
    "\n",
    "print('Crea una llista amb nombres desordenats:')\n",
    "print('list=',list,'\\n')\n",
    "\n",
    "#Respon a les següents preguntes:\n",
    "\n",
    "#Quants números hi ha?\n",
    "print('hi han',len(list),'números')\n",
    "\n",
    "#Quantes vegades apareix el número 3.\n",
    "print('el número 3 apareix',list.count(3),'vegades')\n",
    "\n",
    "#Quantes vegades apareixen els nombres 3 i 4?\n",
    "print('el número 3 apareix',list.count(3),'vegades i el número 4 apareix',list.count(4),'vegades')\n",
    "\n",
    "#Quin és el número més gran?\n",
    "list.sort()\n",
    "print('el número més gran es', list[-1])\n",
    "\n",
    "#Quins són els 3 números més petits?  \n",
    "print('els 3 números més petits son', list[:3])\n",
    "\n",
    "#Quin és el rang d’aquesta llista?      \n",
    "print('el rang de la llista es', list[-1]-list[0])\n",
    "\n"
   ]
  },
  {
   "cell_type": "code",
   "execution_count": null,
   "id": "d0aef69c",
   "metadata": {},
   "outputs": [],
   "source": [
    "#Exercici 4\n",
    "#Crea un diccionaria de la següent forma:\n",
    "\n",
    "compra={'Pomes':{'Qty':5,'€':0.42},'Peres':{'Qty':3,'€':0.66}}\n",
    "print(compra)"
   ]
  },
  {
   "cell_type": "code",
   "execution_count": null,
   "id": "a0704528",
   "metadata": {},
   "outputs": [],
   "source": [
    "#Exercici 4\n",
    "#Afageix una fruta més:\n",
    "\n",
    "compra['Taronjes']=[]\n",
    "print(compra)"
   ]
  },
  {
   "cell_type": "code",
   "execution_count": null,
   "id": "d3cb226a",
   "metadata": {},
   "outputs": [],
   "source": [
    "#Exercici 4\n",
    "\n",
    "#Quant han costat les peres en total?\n",
    "Peres=compra['Peres']\n",
    "print('les peres en total han costat',Peres['Qty']*Peres['€'],'€')\n",
    "\n",
    "#Quantes fruites hem comprat en total?\n",
    "Pomes=compra['Pomes']\n",
    "print('en total hem comprat',Pomes['Qty']+Peres['Qty'],'fruites')\n",
    "\n",
    "#Quina és la fruita més cara?\n",
    "Fruitas={'pome':Pomes['€'],'pere':Peres['€']}\n",
    "print('la fruita més cara es: la',max(Fruitas,key=Fruitas.get))"
   ]
  },
  {
   "cell_type": "code",
   "execution_count": null,
   "id": "800d0f23",
   "metadata": {},
   "outputs": [],
   "source": []
  }
 ],
 "metadata": {
  "kernelspec": {
   "display_name": "Python 3 (ipykernel)",
   "language": "python",
   "name": "python3"
  },
  "language_info": {
   "codemirror_mode": {
    "name": "ipython",
    "version": 3
   },
   "file_extension": ".py",
   "mimetype": "text/x-python",
   "name": "python",
   "nbconvert_exporter": "python",
   "pygments_lexer": "ipython3",
   "version": "3.9.13"
  }
 },
 "nbformat": 4,
 "nbformat_minor": 5
}
